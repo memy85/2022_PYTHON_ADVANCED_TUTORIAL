{
 "cells": [
  {
   "cell_type": "markdown",
   "metadata": {},
   "source": [
    "## Asyncio\n",
    "- async/await statement based concurrency library\n",
    "- async framework"
   ]
  },
  {
   "cell_type": "code",
   "execution_count": 4,
   "metadata": {},
   "outputs": [
    {
     "ename": "RuntimeError",
     "evalue": "asyncio.run() cannot be called from a running event loop",
     "output_type": "error",
     "traceback": [
      "\u001b[0;31m---------------------------------------------------------------------------\u001b[0m",
      "\u001b[0;31mRuntimeError\u001b[0m                              Traceback (most recent call last)",
      "\u001b[1;32m/home/wonseok/2022_PYTHON_ADVANCED_TUTORIAL/notebooks/20220429_asyncio.ipynb Cell 2'\u001b[0m in \u001b[0;36m<module>\u001b[0;34m\u001b[0m\n\u001b[1;32m      <a href='vscode-notebook-cell://ssh-remote%2B112.169.81.70/home/wonseok/2022_PYTHON_ADVANCED_TUTORIAL/notebooks/20220429_asyncio.ipynb#ch0000003vscode-remote?line=6'>7</a>\u001b[0m     \u001b[39mawait\u001b[39;00m asyncio\u001b[39m.\u001b[39msleep(\u001b[39m1\u001b[39m)\n\u001b[1;32m      <a href='vscode-notebook-cell://ssh-remote%2B112.169.81.70/home/wonseok/2022_PYTHON_ADVANCED_TUTORIAL/notebooks/20220429_asyncio.ipynb#ch0000003vscode-remote?line=7'>8</a>\u001b[0m     \u001b[39mprint\u001b[39m(\u001b[39m'\u001b[39m\u001b[39m... World!\u001b[39m\u001b[39m'\u001b[39m)\n\u001b[0;32m---> <a href='vscode-notebook-cell://ssh-remote%2B112.169.81.70/home/wonseok/2022_PYTHON_ADVANCED_TUTORIAL/notebooks/20220429_asyncio.ipynb#ch0000003vscode-remote?line=9'>10</a>\u001b[0m asyncio\u001b[39m.\u001b[39;49mrun(main())\n",
      "File \u001b[0;32m~/.pyenv/versions/3.8.12/lib/python3.8/asyncio/runners.py:33\u001b[0m, in \u001b[0;36mrun\u001b[0;34m(main, debug)\u001b[0m\n\u001b[1;32m      <a href='file:///home/wonseok/.pyenv/versions/3.8.12/lib/python3.8/asyncio/runners.py?line=8'>9</a>\u001b[0m \u001b[39m\"\"\"Execute the coroutine and return the result.\u001b[39;00m\n\u001b[1;32m     <a href='file:///home/wonseok/.pyenv/versions/3.8.12/lib/python3.8/asyncio/runners.py?line=9'>10</a>\u001b[0m \n\u001b[1;32m     <a href='file:///home/wonseok/.pyenv/versions/3.8.12/lib/python3.8/asyncio/runners.py?line=10'>11</a>\u001b[0m \u001b[39mThis function runs the passed coroutine, taking care of\u001b[39;00m\n\u001b[0;32m   (...)\u001b[0m\n\u001b[1;32m     <a href='file:///home/wonseok/.pyenv/versions/3.8.12/lib/python3.8/asyncio/runners.py?line=29'>30</a>\u001b[0m \u001b[39m    asyncio.run(main())\u001b[39;00m\n\u001b[1;32m     <a href='file:///home/wonseok/.pyenv/versions/3.8.12/lib/python3.8/asyncio/runners.py?line=30'>31</a>\u001b[0m \u001b[39m\"\"\"\u001b[39;00m\n\u001b[1;32m     <a href='file:///home/wonseok/.pyenv/versions/3.8.12/lib/python3.8/asyncio/runners.py?line=31'>32</a>\u001b[0m \u001b[39mif\u001b[39;00m events\u001b[39m.\u001b[39m_get_running_loop() \u001b[39mis\u001b[39;00m \u001b[39mnot\u001b[39;00m \u001b[39mNone\u001b[39;00m:\n\u001b[0;32m---> <a href='file:///home/wonseok/.pyenv/versions/3.8.12/lib/python3.8/asyncio/runners.py?line=32'>33</a>\u001b[0m     \u001b[39mraise\u001b[39;00m \u001b[39mRuntimeError\u001b[39;00m(\n\u001b[1;32m     <a href='file:///home/wonseok/.pyenv/versions/3.8.12/lib/python3.8/asyncio/runners.py?line=33'>34</a>\u001b[0m         \u001b[39m\"\u001b[39m\u001b[39masyncio.run() cannot be called from a running event loop\u001b[39m\u001b[39m\"\u001b[39m)\n\u001b[1;32m     <a href='file:///home/wonseok/.pyenv/versions/3.8.12/lib/python3.8/asyncio/runners.py?line=35'>36</a>\u001b[0m \u001b[39mif\u001b[39;00m \u001b[39mnot\u001b[39;00m coroutines\u001b[39m.\u001b[39miscoroutine(main):\n\u001b[1;32m     <a href='file:///home/wonseok/.pyenv/versions/3.8.12/lib/python3.8/asyncio/runners.py?line=36'>37</a>\u001b[0m     \u001b[39mraise\u001b[39;00m \u001b[39mValueError\u001b[39;00m(\u001b[39m\"\u001b[39m\u001b[39ma coroutine was expected, got \u001b[39m\u001b[39m{!r}\u001b[39;00m\u001b[39m\"\u001b[39m\u001b[39m.\u001b[39mformat(main))\n",
      "\u001b[0;31mRuntimeError\u001b[0m: asyncio.run() cannot be called from a running event loop"
     ]
    }
   ],
   "source": [
    "# simple exsample\n",
    "\n",
    "import asyncio\n",
    "\n",
    "async def main():\n",
    "    print('Hello ...')\n",
    "    await asyncio.sleep(1)\n",
    "    print('... World!')\n",
    "    \n",
    "asyncio.run(main())"
   ]
  },
  {
   "cell_type": "markdown",
   "metadata": {},
   "source": [
    "These scripts do not work in ipynb"
   ]
  },
  {
   "cell_type": "markdown",
   "metadata": {},
   "source": []
  }
 ],
 "metadata": {
  "interpreter": {
   "hash": "ce1e1900bc842cd28bd930432569e33d87908e6835422608a8b9de7af4d9fae2"
  },
  "kernelspec": {
   "display_name": "Python 3.8.12 64-bit ('2022_python_advanced')",
   "language": "python",
   "name": "python3"
  },
  "language_info": {
   "codemirror_mode": {
    "name": "ipython",
    "version": 3
   },
   "file_extension": ".py",
   "mimetype": "text/x-python",
   "name": "python",
   "nbconvert_exporter": "python",
   "pygments_lexer": "ipython3",
   "version": "3.8.12"
  },
  "orig_nbformat": 4
 },
 "nbformat": 4,
 "nbformat_minor": 2
}
