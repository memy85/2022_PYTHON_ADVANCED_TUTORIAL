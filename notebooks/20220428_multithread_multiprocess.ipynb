{
 "cells": [
  {
   "cell_type": "markdown",
   "metadata": {},
   "source": [
    "## Iterator and Generator"
   ]
  },
  {
   "cell_type": "code",
   "execution_count": 25,
   "metadata": {},
   "outputs": [],
   "source": [
    "def meaningless_function(v):\n",
    "    yield v\n",
    "    print(f'{v}')\n",
    "\n",
    "a = meaningless_function('this is meaningless')"
   ]
  },
  {
   "cell_type": "code",
   "execution_count": 29,
   "metadata": {},
   "outputs": [
    {
     "ename": "StopIteration",
     "evalue": "",
     "output_type": "error",
     "traceback": [
      "\u001b[0;31m---------------------------------------------------------------------------\u001b[0m",
      "\u001b[0;31mStopIteration\u001b[0m                             Traceback (most recent call last)",
      "\u001b[1;32m/home/wonseok/2022_PYTHON_ADVANCED_TUTORIAL/notebooks/20220428_multithread_multiprocess.ipynb Cell 3'\u001b[0m in \u001b[0;36m<module>\u001b[0;34m\u001b[0m\n\u001b[0;32m----> <a href='vscode-notebook-cell://ssh-remote%2B112.169.81.70/home/wonseok/2022_PYTHON_ADVANCED_TUTORIAL/notebooks/20220428_multithread_multiprocess.ipynb#ch0000010vscode-remote?line=0'>1</a>\u001b[0m \u001b[39mnext\u001b[39;49m(a)\n",
      "\u001b[0;31mStopIteration\u001b[0m: "
     ]
    }
   ],
   "source": [
    "next(a)\n",
    "# there is no more iterable value left"
   ]
  },
  {
   "cell_type": "code",
   "execution_count": 14,
   "metadata": {},
   "outputs": [],
   "source": [
    "# Iterator\n",
    "\n",
    "class MyIterator:\n",
    "    \n",
    "    def __init__(self,xs):\n",
    "        self.xs = xs\n",
    "        \n",
    "    def __next__(self):\n",
    "        if self.xs:\n",
    "            return self.xs.pop(0)\n",
    "        else :\n",
    "            raise StopIteration\n",
    "\n",
    "    def __iter__(self):\n",
    "        return self\n",
    "\n",
    "c = MyIterator([1,2,3])"
   ]
  },
  {
   "cell_type": "code",
   "execution_count": 18,
   "metadata": {},
   "outputs": [
    {
     "ename": "StopIteration",
     "evalue": "",
     "output_type": "error",
     "traceback": [
      "\u001b[0;31m---------------------------------------------------------------------------\u001b[0m",
      "\u001b[0;31mStopIteration\u001b[0m                             Traceback (most recent call last)",
      "\u001b[1;32m/home/wonseok/2022_PYTHON_ADVANCED_TUTORIAL/notebooks/20220428_multithread_multiprocess.ipynb Cell 5'\u001b[0m in \u001b[0;36m<module>\u001b[0;34m\u001b[0m\n\u001b[0;32m----> <a href='vscode-notebook-cell://ssh-remote%2B112.169.81.70/home/wonseok/2022_PYTHON_ADVANCED_TUTORIAL/notebooks/20220428_multithread_multiprocess.ipynb#ch0000021vscode-remote?line=0'>1</a>\u001b[0m \u001b[39mnext\u001b[39;49m(c)\n",
      "\u001b[1;32m/home/wonseok/2022_PYTHON_ADVANCED_TUTORIAL/notebooks/20220428_multithread_multiprocess.ipynb Cell 4'\u001b[0m in \u001b[0;36mMyIterator.__next__\u001b[0;34m(self)\u001b[0m\n\u001b[1;32m      <a href='vscode-notebook-cell://ssh-remote%2B112.169.81.70/home/wonseok/2022_PYTHON_ADVANCED_TUTORIAL/notebooks/20220428_multithread_multiprocess.ipynb#ch0000019vscode-remote?line=7'>8</a>\u001b[0m     \u001b[39mreturn\u001b[39;00m \u001b[39mself\u001b[39m\u001b[39m.\u001b[39mxs\u001b[39m.\u001b[39mpop(\u001b[39m0\u001b[39m)\n\u001b[1;32m      <a href='vscode-notebook-cell://ssh-remote%2B112.169.81.70/home/wonseok/2022_PYTHON_ADVANCED_TUTORIAL/notebooks/20220428_multithread_multiprocess.ipynb#ch0000019vscode-remote?line=8'>9</a>\u001b[0m \u001b[39melse\u001b[39;00m :\n\u001b[0;32m---> <a href='vscode-notebook-cell://ssh-remote%2B112.169.81.70/home/wonseok/2022_PYTHON_ADVANCED_TUTORIAL/notebooks/20220428_multithread_multiprocess.ipynb#ch0000019vscode-remote?line=9'>10</a>\u001b[0m     \u001b[39mraise\u001b[39;00m \u001b[39mStopIteration\u001b[39;00m\n",
      "\u001b[0;31mStopIteration\u001b[0m: "
     ]
    }
   ],
   "source": [
    "next(c)"
   ]
  },
  {
   "cell_type": "code",
   "execution_count": 49,
   "metadata": {},
   "outputs": [],
   "source": [
    "# Generator - don't need __next__, __iter__. \n",
    "# the while statement already enables this\n",
    "\n",
    "def iteration_function(a):\n",
    "    while True :\n",
    "        a += 1\n",
    "        yield a # yield saves the value which was input"
   ]
  },
  {
   "cell_type": "code",
   "execution_count": 82,
   "metadata": {},
   "outputs": [],
   "source": [
    "# initial value with 2\n",
    "\n",
    "i = iteration_function(2)"
   ]
  },
  {
   "cell_type": "code",
   "execution_count": null,
   "metadata": {},
   "outputs": [
    {
     "data": {
      "text/plain": [
       "11"
      ]
     },
     "metadata": {},
     "output_type": "display_data"
    }
   ],
   "source": [
    "next(i)\n",
    "# yield \n",
    "# This only happens in the interpreter session"
   ]
  },
  {
   "cell_type": "code",
   "execution_count": 83,
   "metadata": {},
   "outputs": [],
   "source": [
    "for _ in range(0,10):\n",
    "    val = next(i)"
   ]
  },
  {
   "cell_type": "code",
   "execution_count": 84,
   "metadata": {},
   "outputs": [
    {
     "data": {
      "text/plain": [
       "12"
      ]
     },
     "execution_count": 84,
     "metadata": {},
     "output_type": "execute_result"
    }
   ],
   "source": [
    "val"
   ]
  },
  {
   "cell_type": "code",
   "execution_count": 44,
   "metadata": {},
   "outputs": [],
   "source": [
    "# yield\n",
    "\n",
    "def yield_abc():\n",
    "    yield \"A\"\n",
    "    yield \"B\"\n",
    "    yield \"C\"\n",
    "\n",
    "c = yield_abc()"
   ]
  },
  {
   "cell_type": "code",
   "execution_count": 47,
   "metadata": {},
   "outputs": [
    {
     "data": {
      "text/plain": [
       "'C'"
      ]
     },
     "execution_count": 47,
     "metadata": {},
     "output_type": "execute_result"
    }
   ],
   "source": [
    "next(c)"
   ]
  },
  {
   "cell_type": "markdown",
   "metadata": {},
   "source": [
    "We can see that the yield_abc becomes a generator. It produces values sequentially whe next() method is called. Once it is looped, it cannot be used again"
   ]
  },
  {
   "cell_type": "code",
   "execution_count": 48,
   "metadata": {},
   "outputs": [
    {
     "ename": "StopIteration",
     "evalue": "",
     "output_type": "error",
     "traceback": [
      "\u001b[0;31m---------------------------------------------------------------------------\u001b[0m",
      "\u001b[0;31mStopIteration\u001b[0m                             Traceback (most recent call last)",
      "\u001b[1;32m/home/wonseok/2022_PYTHON_ADVANCED_TUTORIAL/notebooks/20220428_multithread_multiprocess.ipynb Cell 10'\u001b[0m in \u001b[0;36m<module>\u001b[0;34m\u001b[0m\n\u001b[0;32m----> <a href='vscode-notebook-cell://ssh-remote%2B112.169.81.70/home/wonseok/2022_PYTHON_ADVANCED_TUTORIAL/notebooks/20220428_multithread_multiprocess.ipynb#ch0000046vscode-remote?line=0'>1</a>\u001b[0m \u001b[39mnext\u001b[39;49m(c)\n",
      "\u001b[0;31mStopIteration\u001b[0m: "
     ]
    }
   ],
   "source": [
    "next(c)"
   ]
  },
  {
   "cell_type": "code",
   "execution_count": null,
   "metadata": {},
   "outputs": [
    {
     "name": "stdout",
     "output_type": "stream",
     "text": [
      "<generator object <genexpr> at 0x7f0426f97d60>\n",
      "A\n",
      "B\n",
      "C\n"
     ]
    }
   ],
   "source": [
    "# yield from \n",
    "\n",
    "def yield_abc():\n",
    "    yield from [\"A\",\"B\",\"C\"]\n",
    "    \n",
    "abc = (ch for ch in \"ABC\")\n",
    "\n",
    "print(abc) # abc가 제너레이터가 됐다!\n",
    "\n",
    "for ch in abc:\n",
    "    print(ch)"
   ]
  },
  {
   "cell_type": "code",
   "execution_count": null,
   "metadata": {},
   "outputs": [],
   "source": [
    "c = yield_abc()"
   ]
  },
  {
   "cell_type": "markdown",
   "metadata": {},
   "source": [
    "yield from can make a simple generator!"
   ]
  },
  {
   "cell_type": "markdown",
   "metadata": {},
   "source": [
    "## Coroutine\n",
    "- yield : used to stop coroutine\n",
    "- send : send data to the coroutine and execute\n",
    "- close : end coroutine"
   ]
  },
  {
   "cell_type": "code",
   "execution_count": 61,
   "metadata": {},
   "outputs": [],
   "source": [
    "def my_talker(words):\n",
    "    print('this is my name blablabla~')\n",
    "    \n",
    "    try :\n",
    "        while True:\n",
    "            text = (yield)\n",
    "            if words in text :\n",
    "                print(f\"This is new text : {words}\")\n",
    "    \n",
    "    except GeneratorExit:\n",
    "        print('Ok, this is over now')"
   ]
  },
  {
   "cell_type": "code",
   "execution_count": 85,
   "metadata": {},
   "outputs": [],
   "source": [
    "c = my_talker('haha')"
   ]
  },
  {
   "cell_type": "code",
   "execution_count": 100,
   "metadata": {},
   "outputs": [
    {
     "name": "stdout",
     "output_type": "stream",
     "text": [
      "This is new text : haha\n"
     ]
    }
   ],
   "source": [
    "next(c)"
   ]
  },
  {
   "cell_type": "code",
   "execution_count": 84,
   "metadata": {},
   "outputs": [
    {
     "name": "stdout",
     "output_type": "stream",
     "text": [
      "This is new text : haha\n"
     ]
    }
   ],
   "source": [
    "c.send('do this one')"
   ]
  },
  {
   "cell_type": "code",
   "execution_count": 101,
   "metadata": {},
   "outputs": [
    {
     "name": "stdout",
     "output_type": "stream",
     "text": [
      "Ok, this is over now\n"
     ]
    }
   ],
   "source": [
    "c.close()"
   ]
  },
  {
   "cell_type": "markdown",
   "metadata": {},
   "source": [
    "The function becomes an infinite loop\n",
    "\n",
    "lets make an coroutine based functions"
   ]
  },
  {
   "cell_type": "code",
   "execution_count": 104,
   "metadata": {},
   "outputs": [],
   "source": [
    "from types import coroutine\n",
    "\n",
    "@coroutine\n",
    "def example_function(words):\n",
    "    print('this is quite silly')\n",
    "    while True :\n",
    "        text = (yield) # stop here\n",
    "        if words in text :\n",
    "            print(f'this is funny! {text} came out again')\n",
    "            "
   ]
  },
  {
   "cell_type": "code",
   "execution_count": 110,
   "metadata": {},
   "outputs": [],
   "source": [
    "a = example_function('silly')"
   ]
  },
  {
   "cell_type": "code",
   "execution_count": 142,
   "metadata": {},
   "outputs": [],
   "source": [
    "class Example:\n",
    "    def __init__(self, name):\n",
    "       self.name = name\n",
    "      \n",
    "    def do_something(self):\n",
    "        print(f'my name is {self.name}') \n",
    "\n",
    "@coroutine\n",
    "def function():\n",
    "    a = (yield)\n",
    "    ex1 = Example(a)\n",
    "    ex1.do_something()"
   ]
  },
  {
   "cell_type": "code",
   "execution_count": 136,
   "metadata": {},
   "outputs": [],
   "source": [
    "c = ex1.do_something"
   ]
  },
  {
   "cell_type": "code",
   "execution_count": 143,
   "metadata": {},
   "outputs": [],
   "source": [
    "c = function"
   ]
  },
  {
   "cell_type": "code",
   "execution_count": 145,
   "metadata": {},
   "outputs": [
    {
     "ename": "AttributeError",
     "evalue": "'function' object has no attribute 'send'",
     "output_type": "error",
     "traceback": [
      "\u001b[0;31m---------------------------------------------------------------------------\u001b[0m",
      "\u001b[0;31mAttributeError\u001b[0m                            Traceback (most recent call last)",
      "\u001b[1;32m/home/wonseok/2022_PYTHON_ADVANCED_TUTORIAL/notebooks/20220428_multithread_multiprocess.ipynb Cell 19'\u001b[0m in \u001b[0;36m<module>\u001b[0;34m\u001b[0m\n\u001b[0;32m----> <a href='vscode-notebook-cell://ssh-remote%2B112.169.81.70/home/wonseok/2022_PYTHON_ADVANCED_TUTORIAL/notebooks/20220428_multithread_multiprocess.ipynb#ch0000022vscode-remote?line=0'>1</a>\u001b[0m c\u001b[39m.\u001b[39;49msend(\u001b[39m'\u001b[39m\u001b[39mokay\u001b[39m\u001b[39m'\u001b[39m)\n",
      "\u001b[0;31mAttributeError\u001b[0m: 'function' object has no attribute 'send'"
     ]
    }
   ],
   "source": [
    "c.send('okay')"
   ]
  },
  {
   "cell_type": "markdown",
   "metadata": {},
   "source": [
    "## Async example\n",
    "- count 'love' word in pg2600.txt"
   ]
  },
  {
   "cell_type": "code",
   "execution_count": 20,
   "metadata": {},
   "outputs": [],
   "source": [
    "\n",
    "# main function(Entry point)\n",
    "def cat(f, case_insensitive, child):\n",
    "    if case_insensitive :\n",
    "        line_processor = lambda l: l.lower()\n",
    "        \n",
    "    else :\n",
    "        line_processor = lambda l: l\n",
    "    \n",
    "    for line in f:\n",
    "        child.send(line_processor(line))\n",
    "\n",
    "\n",
    "def grep(substring, case_insensitive, child):\n",
    "    if case_insensitive : \n",
    "        substring = substring.lower()\n",
    "    \n",
    "    while True :\n",
    "        text = (yield) # yield를 통해서 받아온다. 중간에 넣어지는 값을!\n",
    "        child.send(text.count(substring))\n",
    "\n",
    "def count(substring):\n",
    "    n = 0\n",
    "    try :\n",
    "        while True:\n",
    "            n += (yield)\n",
    "    \n",
    "    except GeneratorExit:\n",
    "        print(substring, n)"
   ]
  },
  {
   "cell_type": "code",
   "execution_count": 21,
   "metadata": {},
   "outputs": [
    {
     "ename": "TypeError",
     "evalue": "can't send non-None value to a just-started generator",
     "output_type": "error",
     "traceback": [
      "\u001b[0;31m---------------------------------------------------------------------------\u001b[0m",
      "\u001b[0;31mTypeError\u001b[0m                                 Traceback (most recent call last)",
      "\u001b[1;32m/home/wonseok/2022_PYTHON_ADVANCED_TUTORIAL/notebooks/20220428_multithread_multiprocess.ipynb Cell 24'\u001b[0m in \u001b[0;36m<module>\u001b[0;34m\u001b[0m\n\u001b[0;32m----> <a href='vscode-notebook-cell://ssh-remote%2B112.169.81.70/home/wonseok/2022_PYTHON_ADVANCED_TUTORIAL/notebooks/20220428_multithread_multiprocess.ipynb#ch0000026vscode-remote?line=0'>1</a>\u001b[0m cat(\u001b[39m'\u001b[39;49m\u001b[39mpg2600.txt\u001b[39;49m\u001b[39m'\u001b[39;49m, \u001b[39mFalse\u001b[39;49;00m, grep(\u001b[39m'\u001b[39;49m\u001b[39mlove\u001b[39;49m\u001b[39m'\u001b[39;49m, \u001b[39mFalse\u001b[39;49;00m, count(\u001b[39m'\u001b[39;49m\u001b[39mlove\u001b[39;49m\u001b[39m'\u001b[39;49m)))\n",
      "\u001b[1;32m/home/wonseok/2022_PYTHON_ADVANCED_TUTORIAL/notebooks/20220428_multithread_multiprocess.ipynb Cell 23'\u001b[0m in \u001b[0;36mcat\u001b[0;34m(f, case_insensitive, child)\u001b[0m\n\u001b[1;32m      <a href='vscode-notebook-cell://ssh-remote%2B112.169.81.70/home/wonseok/2022_PYTHON_ADVANCED_TUTORIAL/notebooks/20220428_multithread_multiprocess.ipynb#ch0000025vscode-remote?line=6'>7</a>\u001b[0m     line_processor \u001b[39m=\u001b[39m \u001b[39mlambda\u001b[39;00m l: l\n\u001b[1;32m      <a href='vscode-notebook-cell://ssh-remote%2B112.169.81.70/home/wonseok/2022_PYTHON_ADVANCED_TUTORIAL/notebooks/20220428_multithread_multiprocess.ipynb#ch0000025vscode-remote?line=8'>9</a>\u001b[0m \u001b[39mfor\u001b[39;00m line \u001b[39min\u001b[39;00m f:\n\u001b[0;32m---> <a href='vscode-notebook-cell://ssh-remote%2B112.169.81.70/home/wonseok/2022_PYTHON_ADVANCED_TUTORIAL/notebooks/20220428_multithread_multiprocess.ipynb#ch0000025vscode-remote?line=9'>10</a>\u001b[0m     child\u001b[39m.\u001b[39;49msend(line_processor(line))\n",
      "\u001b[0;31mTypeError\u001b[0m: can't send non-None value to a just-started generator"
     ]
    }
   ],
   "source": [
    "cat('pg2600.txt', False, grep('love', False, count('love')))"
   ]
  },
  {
   "cell_type": "markdown",
   "metadata": {},
   "source": [
    "The process just does not start. Why? This is because the function is not a coroutine! we should make it as the coroutine"
   ]
  },
  {
   "cell_type": "code",
   "execution_count": 25,
   "metadata": {},
   "outputs": [],
   "source": [
    "from types import coroutine"
   ]
  },
  {
   "cell_type": "code",
   "execution_count": 28,
   "metadata": {},
   "outputs": [],
   "source": [
    "# main function(Entry point)\n",
    "def cat(f, case_insensitive, child):\n",
    "    if case_insensitive :\n",
    "        line_processor = lambda l: l.lower()\n",
    "        \n",
    "    else :\n",
    "        line_processor = lambda l: l\n",
    "    \n",
    "    for line in f:\n",
    "        child.send(line_processor(line))\n",
    "\n",
    "@coroutine\n",
    "def grep(substring, case_insensitive, child):\n",
    "    if case_insensitive : \n",
    "        substring = substring.lower()\n",
    "    \n",
    "    while True :\n",
    "        text = (yield) # yield를 통해서 받아온다. 중간에 넣어지는 값을!\n",
    "        child.send(text.count(substring))\n",
    "\n",
    "@coroutine\n",
    "def count(substring):\n",
    "    n = 0\n",
    "    try :\n",
    "        while True:\n",
    "            n += (yield)\n",
    "    \n",
    "    except GeneratorExit:\n",
    "        print(substring, n)"
   ]
  },
  {
   "cell_type": "code",
   "execution_count": null,
   "metadata": {},
   "outputs": [
    {
     "ename": "TypeError",
     "evalue": "can't send non-None value to a just-started generator",
     "output_type": "error",
     "traceback": [
      "\u001b[0;31m---------------------------------------------------------------------------\u001b[0m",
      "\u001b[0;31mTypeError\u001b[0m                                 Traceback (most recent call last)",
      "\u001b[1;32m/home/wonseok/2022_PYTHON_ADVANCED_TUTORIAL/notebooks/20220428_multithread_multiprocess.ipynb Cell 28'\u001b[0m in \u001b[0;36m<module>\u001b[0;34m\u001b[0m\n\u001b[1;32m      <a href='vscode-notebook-cell://ssh-remote%2B112.169.81.70/home/wonseok/2022_PYTHON_ADVANCED_TUTORIAL/notebooks/20220428_multithread_multiprocess.ipynb#ch0000032vscode-remote?line=0'>1</a>\u001b[0m \u001b[39mif\u001b[39;00m \u001b[39m__name__\u001b[39m \u001b[39m==\u001b[39m \u001b[39m\"\u001b[39m\u001b[39m__main__\u001b[39m\u001b[39m\"\u001b[39m:\n\u001b[0;32m----> <a href='vscode-notebook-cell://ssh-remote%2B112.169.81.70/home/wonseok/2022_PYTHON_ADVANCED_TUTORIAL/notebooks/20220428_multithread_multiprocess.ipynb#ch0000032vscode-remote?line=1'>2</a>\u001b[0m     cat(\u001b[39m'\u001b[39;49m\u001b[39mpg2600.txt\u001b[39;49m\u001b[39m'\u001b[39;49m, \u001b[39mFalse\u001b[39;49;00m, grep(\u001b[39m'\u001b[39;49m\u001b[39mlove\u001b[39;49m\u001b[39m'\u001b[39;49m, \u001b[39mFalse\u001b[39;49;00m, count(\u001b[39m'\u001b[39;49m\u001b[39mlove\u001b[39;49m\u001b[39m'\u001b[39;49m)))\n",
      "\u001b[1;32m/home/wonseok/2022_PYTHON_ADVANCED_TUTORIAL/notebooks/20220428_multithread_multiprocess.ipynb Cell 27'\u001b[0m in \u001b[0;36mcat\u001b[0;34m(f, case_insensitive, child)\u001b[0m\n\u001b[1;32m      <a href='vscode-notebook-cell://ssh-remote%2B112.169.81.70/home/wonseok/2022_PYTHON_ADVANCED_TUTORIAL/notebooks/20220428_multithread_multiprocess.ipynb#ch0000030vscode-remote?line=6'>7</a>\u001b[0m     line_processor \u001b[39m=\u001b[39m \u001b[39mlambda\u001b[39;00m l: l\n\u001b[1;32m      <a href='vscode-notebook-cell://ssh-remote%2B112.169.81.70/home/wonseok/2022_PYTHON_ADVANCED_TUTORIAL/notebooks/20220428_multithread_multiprocess.ipynb#ch0000030vscode-remote?line=8'>9</a>\u001b[0m \u001b[39mfor\u001b[39;00m line \u001b[39min\u001b[39;00m f:\n\u001b[0;32m---> <a href='vscode-notebook-cell://ssh-remote%2B112.169.81.70/home/wonseok/2022_PYTHON_ADVANCED_TUTORIAL/notebooks/20220428_multithread_multiprocess.ipynb#ch0000030vscode-remote?line=9'>10</a>\u001b[0m     child\u001b[39m.\u001b[39;49msend(line_processor(line))\n",
      "\u001b[0;31mTypeError\u001b[0m: can't send non-None value to a just-started generator"
     ]
    }
   ],
   "source": [
    "if __name__ == \"__main__\":\n",
    "    cat('pg2600.txt', False, grep('love', False, count('love')))"
   ]
  },
  {
   "cell_type": "markdown",
   "metadata": {},
   "source": [
    "The code should be started in a .py form. Not in a ipynb form. "
   ]
  },
  {
   "cell_type": "code",
   "execution_count": null,
   "metadata": {},
   "outputs": [],
   "source": []
  }
 ],
 "metadata": {
  "interpreter": {
   "hash": "ce1e1900bc842cd28bd930432569e33d87908e6835422608a8b9de7af4d9fae2"
  },
  "kernelspec": {
   "display_name": "Python 3.8.12 64-bit ('2022_python_advanced')",
   "language": "python",
   "name": "python3"
  },
  "language_info": {
   "codemirror_mode": {
    "name": "ipython",
    "version": 3
   },
   "file_extension": ".py",
   "mimetype": "text/x-python",
   "name": "python",
   "nbconvert_exporter": "python",
   "pygments_lexer": "ipython3",
   "version": "3.8.12"
  },
  "orig_nbformat": 4
 },
 "nbformat": 4,
 "nbformat_minor": 2
}
