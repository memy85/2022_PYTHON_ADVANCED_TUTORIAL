{
 "cells": [
  {
   "cell_type": "markdown",
   "metadata": {},
   "source": [
    "# Assert \n",
    "```\n",
    "assert expresion1 [\",\" expression2]\n",
    "```\n",
    "- it is easy to follow where the error occurred\n",
    "- 그러나 다음을 기억해야 한다.\n",
    "    - 데이터 유효성 검증에 단언문을 쓰면 안 좋다. "
   ]
  },
  {
   "cell_type": "code",
   "execution_count": 9,
   "metadata": {},
   "outputs": [],
   "source": [
    "def apply_discount(product, discount):\n",
    "    price = int(product['price'] * (1.0 - discount))\n",
    "    assert 0 <= price <= product['price'], 'price not accurate'\n",
    "    return price"
   ]
  },
  {
   "cell_type": "code",
   "execution_count": 10,
   "metadata": {},
   "outputs": [
    {
     "ename": "AssertionError",
     "evalue": "price not accurate",
     "output_type": "error",
     "traceback": [
      "\u001b[0;31m---------------------------------------------------------------------------\u001b[0m",
      "\u001b[0;31mAssertionError\u001b[0m                            Traceback (most recent call last)",
      "\u001b[1;32m/home/wonseok/2022_PYTHON_ADVANCED_TUTORIAL/notebooks/20220519_assert.ipynb Cell 3'\u001b[0m in \u001b[0;36m<module>\u001b[0;34m\u001b[0m\n\u001b[0;32m----> <a href='vscode-notebook-cell://ssh-remote%2B112.169.81.70/home/wonseok/2022_PYTHON_ADVANCED_TUTORIAL/notebooks/20220519_assert.ipynb#ch0000005vscode-remote?line=0'>1</a>\u001b[0m apply_discount({\u001b[39m'\u001b[39;49m\u001b[39mname\u001b[39;49m\u001b[39m'\u001b[39;49m:\u001b[39m'\u001b[39;49m\u001b[39mdoll\u001b[39;49m\u001b[39m'\u001b[39;49m,\u001b[39m'\u001b[39;49m\u001b[39mprice\u001b[39;49m\u001b[39m'\u001b[39;49m:\u001b[39m-\u001b[39;49m\u001b[39m300\u001b[39;49m}, \u001b[39m0.1\u001b[39;49m)\n",
      "\u001b[1;32m/home/wonseok/2022_PYTHON_ADVANCED_TUTORIAL/notebooks/20220519_assert.ipynb Cell 2'\u001b[0m in \u001b[0;36mapply_discount\u001b[0;34m(product, discount)\u001b[0m\n\u001b[1;32m      <a href='vscode-notebook-cell://ssh-remote%2B112.169.81.70/home/wonseok/2022_PYTHON_ADVANCED_TUTORIAL/notebooks/20220519_assert.ipynb#ch0000003vscode-remote?line=0'>1</a>\u001b[0m \u001b[39mdef\u001b[39;00m \u001b[39mapply_discount\u001b[39m(product, discount):\n\u001b[1;32m      <a href='vscode-notebook-cell://ssh-remote%2B112.169.81.70/home/wonseok/2022_PYTHON_ADVANCED_TUTORIAL/notebooks/20220519_assert.ipynb#ch0000003vscode-remote?line=1'>2</a>\u001b[0m     price \u001b[39m=\u001b[39m \u001b[39mint\u001b[39m(product[\u001b[39m'\u001b[39m\u001b[39mprice\u001b[39m\u001b[39m'\u001b[39m] \u001b[39m*\u001b[39m (\u001b[39m1.0\u001b[39m \u001b[39m-\u001b[39m discount))\n\u001b[0;32m----> <a href='vscode-notebook-cell://ssh-remote%2B112.169.81.70/home/wonseok/2022_PYTHON_ADVANCED_TUTORIAL/notebooks/20220519_assert.ipynb#ch0000003vscode-remote?line=2'>3</a>\u001b[0m     \u001b[39massert\u001b[39;00m \u001b[39m0\u001b[39m \u001b[39m<\u001b[39m\u001b[39m=\u001b[39m price \u001b[39m<\u001b[39m\u001b[39m=\u001b[39m product[\u001b[39m'\u001b[39m\u001b[39mprice\u001b[39m\u001b[39m'\u001b[39m], \u001b[39m'\u001b[39m\u001b[39mprice not accurate\u001b[39m\u001b[39m'\u001b[39m\n\u001b[1;32m      <a href='vscode-notebook-cell://ssh-remote%2B112.169.81.70/home/wonseok/2022_PYTHON_ADVANCED_TUTORIAL/notebooks/20220519_assert.ipynb#ch0000003vscode-remote?line=3'>4</a>\u001b[0m     \u001b[39mreturn\u001b[39;00m price\n",
      "\u001b[0;31mAssertionError\u001b[0m: price not accurate"
     ]
    }
   ],
   "source": [
    "apply_discount({'name':'doll','price':-300}, 0.1)"
   ]
  },
  {
   "cell_type": "markdown",
   "metadata": {},
   "source": [
    "- with문"
   ]
  },
  {
   "cell_type": "code",
   "execution_count": 11,
   "metadata": {},
   "outputs": [],
   "source": [
    "with open('hello.txt', 'w') as f:\n",
    "    f.write('hello world!')"
   ]
  }
 ],
 "metadata": {
  "interpreter": {
   "hash": "ce1e1900bc842cd28bd930432569e33d87908e6835422608a8b9de7af4d9fae2"
  },
  "kernelspec": {
   "display_name": "Python 3.8.12 64-bit ('2022_python_advanced')",
   "language": "python",
   "name": "python3"
  },
  "language_info": {
   "codemirror_mode": {
    "name": "ipython",
    "version": 3
   },
   "file_extension": ".py",
   "mimetype": "text/x-python",
   "name": "python",
   "nbconvert_exporter": "python",
   "pygments_lexer": "ipython3",
   "version": "3.8.12"
  },
  "orig_nbformat": 4
 },
 "nbformat": 4,
 "nbformat_minor": 2
}
